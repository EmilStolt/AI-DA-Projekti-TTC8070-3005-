{
 "cells": [
  {
   "cell_type": "markdown",
   "id": "8e906507",
   "metadata": {},
   "source": [
    "## Loppuraportti \n",
    "\n",
    "Projektin tavoitteena oli toteuttaa autokauppaketjulle koneoppimismalli, jota voi hyödyntää käytettyjen autojen hinnan ennustamisessa auton ominaisuuksien perusteella. Toteutus tapahtui Python-ohjelmointikielellä, sekä muun muassa Pythonin datan käsittely-, matikka-, ja koneoppimiskirjastoilla.\n",
    "\n",
    "Liiketoimintaan sekä datasettiin perehtyminen olivat projektin ensiaskeleet. Projektin datasetti koostui kolmesta miljoonasta autosta Yhdysvaltojen markkinoilta. Data tuli muotoilla niin, että sitä pystyi käyttää mallintamisessa. Datan suuren koon vuoksi esikäsittely vei merkittävästi aikaa.\n",
    "\n",
    "Mallinnuksessa päädyttiin käyttämään KNeighbor-regressori-mallia. Tähän tulokseen saavuttiin vertailemalla useita eri malleja keskenään. Projektin käyttöönotto toteutettiin Pythonin Streamlit-kirjastolla. Mallista kehitettiin toimiva prototyyppi käyttöliittymineen, joka pyörii lokaalisti. Streamlit-kirjasto ei anna vaikuttaa käyttöliittymän ulkonäköön merkittävästi. Nykyisessä muodossaan projektista olisi kuitenkin suhteellisen helppoa jalostaa lopullisempi sovellus.\n",
    "\n",
    "Projektin aikana jäsenten työskentely tapahtui pääsääntöisesti itsenäisesti. Viikoittaiset Teams-palaverit aikataulutettiin niin, että jokainen ryhmän jäsenistä pystyi osallistumaan säännöllisesti. Ongelmia jäsenten käytettävyydessä oli jonkin verran muun muassa töiden, sairastelujen sekä muiden kurssien vuoksi. Projektin loppuvaiheessa työskentelyn säännöllisyys hidastui, mikä heijastuu muun muassa niukassa dokumentoinnissa. Lopullista projektia olisi voinut edistää lisäämällä enemmän visualisointia sekä selostusta loppuseminaaria varten. \n",
    "\n",
    "Kaiken kaikkiaan projektista voidaan todeta, että haasteista huolimatta olemme tyytyväisiä projektin lopputulokseen. Saimme toimivan prototyypin valmiiksi. Projekti toimi hyvänä oppimiskokemuksena ja avarsi näkemystämme siitä, miten AI/DA-projekti voidaan toteuttaa käytännössä."
   ]
  }
 ],
 "metadata": {
  "kernelspec": {
   "display_name": "Python [conda env:root] *",
   "language": "python",
   "name": "conda-root-py"
  },
  "language_info": {
   "codemirror_mode": {
    "name": "ipython",
    "version": 3
   },
   "file_extension": ".py",
   "mimetype": "text/x-python",
   "name": "python",
   "nbconvert_exporter": "python",
   "pygments_lexer": "ipython3",
   "version": "3.9.13"
  }
 },
 "nbformat": 4,
 "nbformat_minor": 5
}
